{
 "cells": [
  {
   "cell_type": "code",
   "execution_count": 1,
   "metadata": {
    "collapsed": true
   },
   "outputs": [],
   "source": [
    "from bs4 import BeautifulSoup\t\t\t  #For parsing the HTML\n",
    "from collections import OrderedDict\t\t#For storing chapter and lesson info\n",
    "from subprocess import Popen, PIPE, STDOUT #For accessing pandoc\n",
    "from urllib.request import urlopen, urlretrieve\t\t #For fetching the webpage\n",
    "import json\t\t\t\t\t\t\t\t#For dealing with website data that comes in JSON\n",
    "import pandas as pd\t\t\t\t\t\t#For create Zettelkasten-style filenames\n",
    "import re\t\t\t\t\t\t\t\t  #For regex parsing of `sct`\n",
    "import subprocess\t\t\t\t\t\t  #For accessing pandoc\n",
    "import pprint"
   ]
  },
  {
   "cell_type": "code",
   "execution_count": 2,
   "metadata": {
    "collapsed": true
   },
   "outputs": [],
   "source": [
    "link = 'https://www.datacamp.com/tracks/data-scientist-with-r'"
   ]
  },
  {
   "cell_type": "code",
   "execution_count": 19,
   "metadata": {},
   "outputs": [],
   "source": [
    "html = urlopen(link)\n",
    "soup = BeautifulSoup(html, 'lxml')\n",
    "track = soup.find_all('a', attrs={'class':'course-block__link ds-snowplow-link-course-block'})"
   ]
  },
  {
   "cell_type": "code",
   "execution_count": 20,
   "metadata": {},
   "outputs": [
    {
     "name": "stdout",
     "output_type": "stream",
     "text": [
      "<a class=\"course-block__link ds-snowplow-link-course-block\" href=\"/courses/free-introduction-to-r\">\n",
      " <div class=\"course-block__technology course-block__technology--r\">\n",
      " </div>\n",
      " <div class=\"course-block__body\">\n",
      "  <h4 class=\"course-block__title\">\n",
      "   Introduction to R\n",
      "  </h4>\n",
      "  <p class=\"course-block__description\">\n",
      "   Master the basics of data analysis by manipulating common data structures such as vectors, matrices and data frames.\n",
      "  </p>\n",
      "  <div class=\"course-block__extra-info\">\n",
      "   <span class=\"course-block__length\">\n",
      "    4 hours\n",
      "   </span>\n",
      "  </div>\n",
      " </div>\n",
      "</a>\n",
      "\n"
     ]
    }
   ],
   "source": [
    "print(track[0].prettify())"
   ]
  },
  {
   "cell_type": "code",
   "execution_count": 28,
   "metadata": {},
   "outputs": [
    {
     "data": {
      "text/plain": [
       "{'class': ['course-block__link', 'ds-snowplow-link-course-block'],\n",
       " 'href': '/courses/free-introduction-to-r'}"
      ]
     },
     "execution_count": 28,
     "metadata": {},
     "output_type": "execute_result"
    }
   ],
   "source": [
    "track[0].attrs"
   ]
  },
  {
   "cell_type": "code",
   "execution_count": 22,
   "metadata": {},
   "outputs": [
    {
     "data": {
      "text/plain": [
       "23"
      ]
     },
     "execution_count": 22,
     "metadata": {},
     "output_type": "execute_result"
    }
   ],
   "source": [
    "len(track)"
   ]
  },
  {
   "cell_type": "code",
   "execution_count": 25,
   "metadata": {},
   "outputs": [],
   "source": [
    "course_links = []\n",
    "\n",
    "for x in track:\n",
    "    tail = x.attrs['href']\n",
    "    url = 'https://www.datacamp.com' + tail\n",
    "    course_links.append(url)"
   ]
  },
  {
   "cell_type": "code",
   "execution_count": 26,
   "metadata": {},
   "outputs": [
    {
     "data": {
      "text/plain": [
       "['https://www.datacamp.com/courses/free-introduction-to-r',\n",
       " 'https://www.datacamp.com/courses/intermediate-r',\n",
       " 'https://www.datacamp.com/courses/introduction-to-the-tidyverse',\n",
       " 'https://www.datacamp.com/courses/importing-data-in-r-part-1',\n",
       " 'https://www.datacamp.com/courses/importing-data-in-r-part-2',\n",
       " 'https://www.datacamp.com/courses/cleaning-data-in-r',\n",
       " 'https://www.datacamp.com/courses/importing-cleaning-data-in-r-case-studies',\n",
       " 'https://www.datacamp.com/courses/writing-functions-in-r',\n",
       " 'https://www.datacamp.com/courses/dplyr-data-manipulation-r-tutorial',\n",
       " 'https://www.datacamp.com/courses/joining-data-in-r-with-dplyr',\n",
       " 'https://www.datacamp.com/courses/intro-to-sql-for-data-science',\n",
       " 'https://www.datacamp.com/courses/data-visualization-with-ggplot2-1',\n",
       " 'https://www.datacamp.com/courses/data-visualization-with-ggplot2-2',\n",
       " 'https://www.datacamp.com/courses/working-with-dates-and-times-in-r',\n",
       " 'https://www.datacamp.com/courses/introduction-to-data',\n",
       " 'https://www.datacamp.com/courses/exploratory-data-analysis',\n",
       " 'https://www.datacamp.com/courses/exploratory-data-analysis-in-r-case-study',\n",
       " 'https://www.datacamp.com/courses/correlation-and-regression',\n",
       " 'https://www.datacamp.com/courses/cluster-analysis-in-r',\n",
       " 'https://www.datacamp.com/courses/supervised-learning-in-r-classification',\n",
       " 'https://www.datacamp.com/courses/unsupervised-learning-in-r',\n",
       " 'https://www.datacamp.com/courses/joining-data-in-postgresql',\n",
       " 'https://www.datacamp.com/courses/reporting-with-r-markdown']"
      ]
     },
     "execution_count": 26,
     "metadata": {},
     "output_type": "execute_result"
    }
   ],
   "source": [
    "course_links"
   ]
  },
  {
   "cell_type": "code",
   "execution_count": null,
   "metadata": {
    "collapsed": true
   },
   "outputs": [],
   "source": []
  }
 ],
 "metadata": {
  "kernelspec": {
   "display_name": "Python 3",
   "language": "python",
   "name": "python3"
  },
  "language_info": {
   "codemirror_mode": {
    "name": "ipython",
    "version": 3
   },
   "file_extension": ".py",
   "mimetype": "text/x-python",
   "name": "python",
   "nbconvert_exporter": "python",
   "pygments_lexer": "ipython3",
   "version": "3.6.3"
  }
 },
 "nbformat": 4,
 "nbformat_minor": 2
}
