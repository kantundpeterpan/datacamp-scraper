{
 "cells": [
  {
   "cell_type": "markdown",
   "metadata": {},
   "source": [
    "In my last two posts ([here](/building-a-datacamp-archive/) and [here](/webscraping-datacamp-courses-ii/)), I discussed my efforts to scrape the [DataCamp](http://datacamp.com/) website so that I could have a record of the courses I've taken. In this final post, I'm putting all the pieces together, discussing how the script works and showing what the final product looks like. \n",
    "\n",
    "There's a lot of code here, so I've frontloaded it into the first half of the post. You can choose your own adventure. If you're interested in how the script works, go to the next section. If you're interested in seeing what the script does, skip to the section \"In Action.\"\n",
    "\n",
    "Before I dive in, I want to say how excited I am about this project. A year ago, I could barely print `\"Hello world\"`. but thanks to sites like [DataCamp](http://datacamp.com/), communities like [The Carpentries](https://carpentries.org) and a heavy dose of [Stack Overflow](https://stackoverflow.com), I'm doing things like this. So if you're interested in coding or data science but think its something you could never do, think again. Keep a growth mindset, and dive right in.\n",
    "\n",
    "# How It Works\n",
    "\n",
    "Here's how the script works. The user passes the link of the course they want to `get_whole_course()`. This function then uses `get_course_outline()` to get a list of the chapters and lessons in each course and `make_chapter_notes()` to create a text file for each chapter and downloads a PDF of the chapter slides. It then creates a text file with a table of contents for each course. This allows for easy navegation of the course once all the text files are in my notes system (I use [nvALT](http://brettterpstra.com/projects/nvalt/) and [The Archive](http://zettelkasten.de)). Everything is organized using unqiue, 14-digit \"z numbers,\" which are assigned to each course and chapter.\n",
    "\n",
    "Here are the libraries I used, with a brief explanation of the role each one plays: "
   ]
  },
  {
   "cell_type": "code",
   "execution_count": 3,
   "metadata": {
    "collapsed": true
   },
   "outputs": [],
   "source": [
    "from bs4 import BeautifulSoup\t\t\t\t\t#For parsing the HTML\n",
    "from collections import OrderedDict\t\t\t\t#For storing chapter and lesson info\n",
    "from subprocess import Popen, PIPE, STDOUT\t\t#For accessing pandoc\n",
    "from urllib.request import urlopen, urlretrieve\t#For fetching the webpage, downloading PDF of slides\n",
    "import json\t\t\t\t\t\t\t\t\t\t#For dealing with website data that comes in JSON\n",
    "import pandas as pd\t\t\t\t\t\t\t\t#For create Zettelkasten-style filenames\n",
    "import re\t\t\t\t\t\t\t\t\t\t#For regex parsing of `sct`\n",
    "import subprocess\t\t\t\t\t\t\t\t#For accessing pandoc\n",
    "import pprint\t\t\t\t\t\t\t\t\t#For troubleshooting, looking through webpages, dictionaries, etc"
   ]
  },
  {
   "cell_type": "markdown",
   "metadata": {},
   "source": [
    "And here's all the code you need to capture an entire course:"
   ]
  },
  {
   "cell_type": "code",
   "execution_count": 38,
   "metadata": {
    "collapsed": true
   },
   "outputs": [],
   "source": [
    "def get_whole_course(link, return_z=False):\n",
    "\t'''Receives course URL from user. Gets ordered dict of chapters/lessons. \n",
    "\tCreates list of unique z_numbers, one for each chapter. \n",
    "\tCreates txt file for each chapter, fills each file with lesson content.\n",
    "\tGets course name. Creates table of contents.\n",
    "\tFeeds to: get_course_outline(), make_z_number(), make_chapter_notes(), \n",
    "\tget_course_title(), create_table_of_contents()'''\n",
    "\tcourse_dictionary = get_course_outline(link)\n",
    "\tz_list = make_z_number(len(course_dictionary.items())+1)\n",
    "\tfor chapter, lesson in course_dictionary.items():\n",
    "\t\tz_index = list(course_dictionary.keys()).index(chapter)\n",
    "\t\tfilename = z_list[z_index] + ' ' + chapter + '.txt'\n",
    "\t\tchapter_link = [lesson][0][1][1]\n",
    "\t\tmake_chapter_notes(filename, chapter_link)\n",
    "\t\t# HERE: download_chapter_slides(lesson_json, filename.strip('.txt'))\n",
    "\tcourse_name = get_course_title(link)\n",
    "\tcreate_table_of_contents(course_dictionary, course_name, z_list)\n",
    "\tif return_z == True:\n",
    "\t\treturn z_list[-1]\n",
    "    \n",
    "## Should get chapter PDF here. Not in make_chapter_notes(). Should make file name in the PDF function. Maybe make a l\n",
    "\n",
    "def get_course_outline(link):\n",
    "\t'''Receives link to course landing page from get_whole_course(). \n",
    "\tReturns ordered dict of chapters with lessons.'''\n",
    "\thtml = urlopen(link)\n",
    "\tsoup = BeautifulSoup(html, 'lxml')\n",
    "\tlesson_outline = soup.find_all(['h4', 'li'])\n",
    "\tchapters = OrderedDict()   # {chapter: [(lesson_name, lesson_link), ...], ...}\n",
    "\tfor item in lesson_outline:\n",
    "\t\tattributes = item.attrs\n",
    "\t\ttry:\n",
    "\t\t\tclass_type = attributes['class'][0]\n",
    "\t\t\tif class_type == 'chapter__title':\n",
    "\t\t\t\tchapter = item.text.strip()\n",
    "\t\t\t\tchapters[chapter] = []\n",
    "\t\t\tif class_type == 'chapter__exercise':\n",
    "\t\t\t\tlesson_name = item.find('h5').text\n",
    "\t\t\t\tlesson_link = item.find('a').attrs['href']\n",
    "\t\t\t\tchapters[chapter].append((lesson_name, lesson_link))\n",
    "\t\texcept KeyError:\n",
    "\t\t\tpass\n",
    "\treturn(chapters)\n",
    "\n",
    "def make_z_number(num):\n",
    "\t'''Takes int and returns a list of unique, 14-digit numbers. Only goes to 99.'''\n",
    "\tassert num < 100, 'Enter an int that is less than 100. Max list size is 99.'\n",
    "\tstring_list = []\n",
    "\tz_index = 0\n",
    "\tfor x in range(num):\n",
    "\t\tz_string = pd.to_datetime('now').strftime('%Y%m%d%H%S') #Did seconds instead of minutes to avoid repeats\n",
    "\t\tz_string = z_string + '{0:0>2}'.format(z_index)\n",
    "\t\tstring_list.append(z_string)\n",
    "\t\tz_index += 1\n",
    "\treturn string_list\n",
    "\n",
    "def make_chapter_notes(filename, link):\n",
    "\t'''Receives filename and lesson link from get_whole_course().\n",
    "\t(Note that a link from any lesson in a chapter will work. \n",
    "    That is, any lesson link has all the information for the chapter.)\n",
    "\tCycles through all lessons in chapter, converting each lesson and sub-exercise from HTML to Markdown.\n",
    "\tPrints all chapter content into text file.\n",
    "\tFeeds to: get_lesson_json(), NormalExercise_print(), BulletExercise_print(), \n",
    "\tMultipleChoiceExercise_print(), download_chapter_slides()'''\n",
    "\tlesson_json = get_lesson_json(link)\n",
    "\tfor item in lesson_json['exercises']['all']:\n",
    "\t\tif item['type'] == 'VideoExercise':\n",
    "\t\t\tpass\n",
    "\t\telif item['type'] == 'NormalExercise':\n",
    "\t\t\tNormalExercise_print(item, filename)\n",
    "\t\telif item['type'] == 'BulletExercise':\n",
    "\t\t\tBulletExercise_print(item, filename)\n",
    "\t\telif item['type'] == 'MultipleChoiceExercise':\n",
    "\t\t\tMultipleChoiceExercise_print(item, filename)\n",
    "\tprint('JSON length:', len(lesson_json['course']['chapters']))\n",
    "\n",
    "def get_course_title(link):\n",
    "\thtml = urlopen(link)\n",
    "\tsoup = BeautifulSoup(html, 'lxml')\n",
    "\treturn soup.title.text\n",
    "\n",
    "def create_table_of_contents(dictionary, course_name, z_list):\n",
    "\t'''Receives course dictionary, course name, and list of unique z_numbers from get_whole_course().\n",
    "    Creates text file with contents of course, formatted in Markdown, with wiki-style links to each chapter.'''    \n",
    "\tfilename = z_list[-1] + ' ' + course_name + '.txt'\n",
    "\twith open(filename, 'a') as f:\n",
    "\t\tfor chapter, lessons in dictionary.items():\n",
    "\t\t\tz_index = list(dictionary.keys()).index(chapter)\n",
    "\t\t\tprint('\\n# ', '[[' + z_list[z_index] + ']]', chapter, '\\n', file=f)\n",
    "\t\t\tfor lesson_name, lesson_link in lessons:\n",
    "\t\t\t\tprint(\"   *\", lesson_name, file=f)\n",
    "\n",
    "def get_lesson_json(link):\n",
    "\t'''Receives lesson link from make_chapter_notes() and returns \n",
    "\tthe dictionary that holds all the information for the lesson's parent chapter.'''\n",
    "\thtml = urlopen(link)\n",
    "\tsoup = BeautifulSoup(html, 'lxml')\n",
    "\tstring = soup.find_all('script')[3].string\n",
    "\tjson_text = string.strip('window.PRELOADED_STATE=')[:-1]\n",
    "\tlesson_json = json.loads(json_text)\n",
    "\treturn lesson_json\n",
    "                \n",
    "def NormalExercise_print(json, f):\n",
    "\t'''Works with make_chapter_notes. Parses NormalExercise type lessons and prints them in \n",
    "\tmarkdown to file.\n",
    "\tFeeds to: convert_2_md(), get_success_msg().'''\n",
    "\twith open(f, 'a') as f:\n",
    "\t\tprint('#', json['title'], '\\n', file=f)\n",
    "\t\tprint('## Exercise\\n', file=f)\n",
    "\t\tprint(convert_2_md(json['assignment']), file=f)\n",
    "\t\tprint('## Instructions\\n', file=f)\n",
    "\t\tprint(convert_2_md(json['instructions'][:-2]), file=f)\n",
    "\t\tprint('## Code\\n', file=f)\n",
    "\t\tprint('```\\n' + convert_2_md(json['sample_code']).replace('\\\\', ''),'\\n```\\n', file=f)\n",
    "\t\tprint('```\\n' + convert_2_md(json['solution']).replace('\\\\', ''),'\\n```\\n', file=f)\n",
    "\t\tprint(get_success_msg(json['sct']) + '\\n', file=f)\n",
    "\n",
    "def BulletExercise_print(json, f):\n",
    "\t'''Works with make_chapter_notes. Parses BulletExercises type lessons and prints them in \n",
    "\tmarkdown to file.\n",
    "\tFeeds to: convert_2_md(), get_success_msg().'''\n",
    "\twith open(f, 'a') as f:\n",
    "\t\tprint('# ' + json['title'], '\\n', file=f)\n",
    "\t\tprint('## Exercise\\n', file=f)\n",
    "\t\tprint(convert_2_md(json['assignment']), file=f)\n",
    "\t\tprint('## Instructions & Code \\n', file=f)  \n",
    "\t\tfor item in json['subexercises']:\n",
    "\t\t\tprint(convert_2_md(item['instructions']), file=f)\n",
    "\t\t\tprint('```\\n' + item['sample_code'] + '\\n```\\n', file=f)\n",
    "\t\t\tprint('```\\n' + item['solution'] + '\\n```', file=f)\n",
    "\t\t\tprint(get_success_msg(item['sct']) + '\\n', file=f)\n",
    "\n",
    "def MultipleChoiceExercise_print(json, f):\n",
    "\t'''Works with make_chapter_notes. Parses MultipleChoice type lessons and prints them in \n",
    "\tmarkdown to file.\n",
    "\tFeeds to: convert_2_md(), get_correct_mc(), get_success_msg().'''\n",
    "\twith open(f, 'a') as f:\n",
    "\t\tprint('# ' + json['title'], '\\n', file=f)\n",
    "\t\tprint('## Exercise\\n', file=f)\n",
    "\t\tprint(convert_2_md(json['assignment']), file=f)\n",
    "\t\tprint(\"## Choices\\n\", file=f)\n",
    "\t\tfor choice in json['instructions']:\n",
    "\t\t\tprint('* ' + choice, file=f)\n",
    "\t\tprint('\\n**Correct answer: ' + get_correct_mc(json['sct']) + '**\\n', file=f)\n",
    "\t\tprint(get_success_msg(json['sct']) + '\\n', file=f)\n",
    "\n",
    "def convert_2_md(string): #Source: http://www.practicallyefficient.com/2016/12/04/pandoc-and-python.html\n",
    "\t'''Receives a string of HTML and use Pandoc to return string in Markdown.'''\n",
    "\tp = Popen(['pandoc', '-f', 'html', '-t', 'markdown', '--wrap=preserve'], stdout=PIPE, stdin=PIPE, stderr=STDOUT)\n",
    "\ttext = p.communicate(input=string.encode('utf-8'))[0]\n",
    "\ttext = unescape(text.decode('utf-8'))\n",
    "\treturn text\n",
    "\n",
    "def get_success_msg(string):\n",
    "\t'''Parses text from DataCamp `sct` JSON and returns the success message as a string.'''\n",
    "\tmatch = re.search(r'success_msg\\(\"(.*?)\"\\)', string)\n",
    "\tif match != None:\n",
    "\t\tmessage = match.group(1)\n",
    "\t\treturn message\n",
    "\telse:\n",
    "\t\treturn ''\n",
    "\n",
    "def get_correct_mc(string):\n",
    "\t'''Parses text from DataCamp `sct` JSON and correct answer for MultipleChoice type lessons. \n",
    "    Works with MultipleChoiceExercise_print'''\n",
    "\tmatch = re.search(r'test_mc\\(correct = (\\d),', string)\n",
    "\tif match != None:\n",
    "\t\tmessage = match.group(1)\n",
    "\t\treturn message\n",
    "\telse:\n",
    "\t\treturn ''\n",
    "\n",
    "def download_chapter_slides(lesson_json, filename):\n",
    "\t'''Receives lesson_json and filename from make_chapter_notes(). \n",
    "\tFinds link to PDF of slides for each chapter. \n",
    "\tSaves PDF with chapter's unique z_number and title.'''\n",
    "\tprint('in chap:',filename)\n",
    "\tfor item in lesson_json['course']['chapters']:\n",
    "\t\turl = item['slides_link']\n",
    "\t\tif url != None:\n",
    "\t\t\turlretrieve(url, filename + '.pdf')\n",
    "\t\telse:\n",
    "\t\t\tpass\n",
    "\n",
    "def unescape(s): #Source: https://wiki.python.org/moin/EscapingHtml\n",
    "\t'''Receives string from convert_2_md() and unescapes non-ascii characters.'''\n",
    "\ts = s.replace(\"&lt;\", \"<\")\n",
    "\ts = s.replace(\"&gt;\", \">\")\n",
    "\ts = s.replace(\"&amp;\", \"&\")\n",
    "\treturn s"
   ]
  },
  {
   "cell_type": "markdown",
   "metadata": {},
   "source": [
    "Once the above code is loaded, all you have to do is grab the link for the course and run `get_whole_course()`."
   ]
  },
  {
   "cell_type": "code",
   "execution_count": 37,
   "metadata": {},
   "outputs": [
    {
     "name": "stdout",
     "output_type": "stream",
     "text": [
      "from get_whole_course(): https://campus.datacamp.com/courses/introduction-to-the-tidyverse/data-wrangling-1?ex=2\n",
      "JSON length: 4\n"
     ]
    },
    {
     "ename": "TypeError",
     "evalue": "download_chapter_slides() missing 1 required positional argument: 'index'",
     "output_type": "error",
     "traceback": [
      "\u001b[0;31m---------------------------------------------------------------------------\u001b[0m",
      "\u001b[0;31mTypeError\u001b[0m                                 Traceback (most recent call last)",
      "\u001b[0;32m<ipython-input-37-566219d02c5c>\u001b[0m in \u001b[0;36m<module>\u001b[0;34m()\u001b[0m\n\u001b[1;32m      1\u001b[0m \u001b[0mlink\u001b[0m \u001b[0;34m=\u001b[0m \u001b[0;34m'https://www.datacamp.com/courses/introduction-to-the-tidyverse'\u001b[0m\u001b[0;34m\u001b[0m\u001b[0m\n\u001b[0;32m----> 2\u001b[0;31m \u001b[0mget_whole_course\u001b[0m\u001b[0;34m(\u001b[0m\u001b[0mlink\u001b[0m\u001b[0;34m)\u001b[0m\u001b[0;34m\u001b[0m\u001b[0m\n\u001b[0m\u001b[1;32m      3\u001b[0m \u001b[0mprint\u001b[0m\u001b[0;34m(\u001b[0m\u001b[0;34m'Done!'\u001b[0m\u001b[0;34m)\u001b[0m\u001b[0;34m\u001b[0m\u001b[0m\n",
      "\u001b[0;32m<ipython-input-36-15234e02d28d>\u001b[0m in \u001b[0;36mget_whole_course\u001b[0;34m(link, return_z)\u001b[0m\n\u001b[1;32m     13\u001b[0m                 \u001b[0mchapter_link\u001b[0m \u001b[0;34m=\u001b[0m \u001b[0;34m[\u001b[0m\u001b[0mlesson\u001b[0m\u001b[0;34m]\u001b[0m\u001b[0;34m[\u001b[0m\u001b[0;36m0\u001b[0m\u001b[0;34m]\u001b[0m\u001b[0;34m[\u001b[0m\u001b[0;36m1\u001b[0m\u001b[0;34m]\u001b[0m\u001b[0;34m[\u001b[0m\u001b[0;36m1\u001b[0m\u001b[0;34m]\u001b[0m\u001b[0;34m\u001b[0m\u001b[0m\n\u001b[1;32m     14\u001b[0m                 \u001b[0mprint\u001b[0m\u001b[0;34m(\u001b[0m\u001b[0;34m'from get_whole_course():'\u001b[0m\u001b[0;34m,\u001b[0m \u001b[0mchapter_link\u001b[0m\u001b[0;34m)\u001b[0m\u001b[0;34m\u001b[0m\u001b[0m\n\u001b[0;32m---> 15\u001b[0;31m                 \u001b[0mmake_chapter_notes\u001b[0m\u001b[0;34m(\u001b[0m\u001b[0mfilename\u001b[0m\u001b[0;34m,\u001b[0m \u001b[0mchapter_link\u001b[0m\u001b[0;34m)\u001b[0m\u001b[0;34m\u001b[0m\u001b[0m\n\u001b[0m\u001b[1;32m     16\u001b[0m         \u001b[0mcourse_name\u001b[0m \u001b[0;34m=\u001b[0m \u001b[0mget_course_title\u001b[0m\u001b[0;34m(\u001b[0m\u001b[0mlink\u001b[0m\u001b[0;34m)\u001b[0m\u001b[0;34m\u001b[0m\u001b[0m\n\u001b[1;32m     17\u001b[0m         \u001b[0mcreate_table_of_contents\u001b[0m\u001b[0;34m(\u001b[0m\u001b[0mcourse_dictionary\u001b[0m\u001b[0;34m,\u001b[0m \u001b[0mcourse_name\u001b[0m\u001b[0;34m,\u001b[0m \u001b[0mz_list\u001b[0m\u001b[0;34m)\u001b[0m\u001b[0;34m\u001b[0m\u001b[0m\n",
      "\u001b[0;32m<ipython-input-36-15234e02d28d>\u001b[0m in \u001b[0;36mmake_chapter_notes\u001b[0;34m(filename, link)\u001b[0m\n\u001b[1;32m     72\u001b[0m                         \u001b[0mMultipleChoiceExercise_print\u001b[0m\u001b[0;34m(\u001b[0m\u001b[0mitem\u001b[0m\u001b[0;34m,\u001b[0m \u001b[0mfilename\u001b[0m\u001b[0;34m)\u001b[0m\u001b[0;34m\u001b[0m\u001b[0m\n\u001b[1;32m     73\u001b[0m         \u001b[0mprint\u001b[0m\u001b[0;34m(\u001b[0m\u001b[0;34m'JSON length:'\u001b[0m\u001b[0;34m,\u001b[0m \u001b[0mlen\u001b[0m\u001b[0;34m(\u001b[0m\u001b[0mlesson_json\u001b[0m\u001b[0;34m[\u001b[0m\u001b[0;34m'course'\u001b[0m\u001b[0;34m]\u001b[0m\u001b[0;34m[\u001b[0m\u001b[0;34m'chapters'\u001b[0m\u001b[0;34m]\u001b[0m\u001b[0;34m)\u001b[0m\u001b[0;34m)\u001b[0m\u001b[0;34m\u001b[0m\u001b[0m\n\u001b[0;32m---> 74\u001b[0;31m         \u001b[0mdownload_chapter_slides\u001b[0m\u001b[0;34m(\u001b[0m\u001b[0mlesson_json\u001b[0m\u001b[0;34m,\u001b[0m \u001b[0mfilename\u001b[0m\u001b[0;34m.\u001b[0m\u001b[0mstrip\u001b[0m\u001b[0;34m(\u001b[0m\u001b[0;34m'.txt'\u001b[0m\u001b[0;34m)\u001b[0m\u001b[0;34m)\u001b[0m\u001b[0;34m\u001b[0m\u001b[0m\n\u001b[0m\u001b[1;32m     75\u001b[0m \u001b[0;34m\u001b[0m\u001b[0m\n\u001b[1;32m     76\u001b[0m \u001b[0;32mdef\u001b[0m \u001b[0mget_course_title\u001b[0m\u001b[0;34m(\u001b[0m\u001b[0mlink\u001b[0m\u001b[0;34m)\u001b[0m\u001b[0;34m:\u001b[0m\u001b[0;34m\u001b[0m\u001b[0m\n",
      "\u001b[0;31mTypeError\u001b[0m: download_chapter_slides() missing 1 required positional argument: 'index'"
     ]
    }
   ],
   "source": [
    "link = 'https://www.datacamp.com/courses/introduction-to-the-tidyverse'\n",
    "get_whole_course(link)\n",
    "print('Done!')"
   ]
  },
  {
   "cell_type": "markdown",
   "metadata": {},
   "source": [
    "And, as a bonus, you can use the below function to scrape a whole track. In the next section, I demo what it looks like to scrape the track that I'm currently working on."
   ]
  },
  {
   "cell_type": "code",
   "execution_count": null,
   "metadata": {
    "collapsed": true
   },
   "outputs": [],
   "source": [
    "def get_whole_track(link):\n",
    "    html = urlopen(link)\n",
    "    soup = BeautifulSoup(html, 'lxml')\n",
    "    track = soup.find_all('a', attrs={'class':'course-block__link ds-snowplow-link-course-block'})\n",
    "    track_title = soup.title.text\n",
    "    courses = []\n",
    "\n",
    "    for x in track:\n",
    "        title = x.find('h4').text\n",
    "        tail = x.attrs['href']\n",
    "        url = 'https://www.datacamp.com' + tail\n",
    "        courses.append((title, url))\n",
    "    \n",
    "    track_file = '20180815170711 ' + track_title + '.txt'  \n",
    "    \n",
    "    with open(track_file, 'a') as f:\n",
    "        print('#', track_title + '\\n', file=f)\n",
    "        for course in courses:\n",
    "            z_num = get_whole_course(course[1], return_z=True)\n",
    "            course_name = '[[' + z_num + ']] ' + course[0]\n",
    "            print('*', course_name, file=f)"
   ]
  },
  {
   "cell_type": "markdown",
   "metadata": {},
   "source": [
    "## In Action\n",
    "\n",
    "So what happens when you scrape a whole track? Here's the \"Data Scientist with R\" track, 23 courses that'll take you from zero to R-hero:\n",
    "\n",
    "![](/images/datacamp_track.png)\n",
    "\n",
    "Each of course looks something like this:\n",
    "\n",
    "![](/images/datacamp_course.png)\n",
    "\n",
    "When I run the `get_whole_track()` function on the track, here's the table of contents I end up with:\n",
    "\n",
    "![](/images/scrape_01.png)\n",
    "\n",
    "Here's the table of contents for the course:\n",
    "\n",
    "![](/images/scrape_02.png)\n",
    "\n",
    "Here's the first chapter of the course:\n",
    "\n",
    "![](/images/scrape_03.png)"
   ]
  },
  {
   "cell_type": "code",
   "execution_count": 4,
   "metadata": {},
   "outputs": [
    {
     "ename": "KeyboardInterrupt",
     "evalue": "",
     "output_type": "error",
     "traceback": [
      "\u001b[0;31m---------------------------------------------------------------------------\u001b[0m",
      "\u001b[0;31mKeyboardInterrupt\u001b[0m                         Traceback (most recent call last)",
      "\u001b[0;32m<ipython-input-4-91b6c2516a9d>\u001b[0m in \u001b[0;36m<module>\u001b[0;34m()\u001b[0m\n\u001b[0;32m----> 1\u001b[0;31m \u001b[0mget_whole_track\u001b[0m\u001b[0;34m(\u001b[0m\u001b[0;34m'https://www.datacamp.com/tracks/data-scientist-with-r'\u001b[0m\u001b[0;34m)\u001b[0m\u001b[0;34m\u001b[0m\u001b[0m\n\u001b[0m\u001b[1;32m      2\u001b[0m \u001b[0mprint\u001b[0m\u001b[0;34m(\u001b[0m\u001b[0;34m'Done!'\u001b[0m\u001b[0;34m)\u001b[0m\u001b[0;34m\u001b[0m\u001b[0m\n",
      "\u001b[0;32m<ipython-input-3-0ddd8e54da54>\u001b[0m in \u001b[0;36mget_whole_track\u001b[0;34m(link)\u001b[0m\n\u001b[1;32m     17\u001b[0m         \u001b[0mprint\u001b[0m\u001b[0;34m(\u001b[0m\u001b[0;34m'#'\u001b[0m\u001b[0;34m,\u001b[0m \u001b[0mtrack_title\u001b[0m \u001b[0;34m+\u001b[0m \u001b[0;34m'\\n'\u001b[0m\u001b[0;34m,\u001b[0m \u001b[0mfile\u001b[0m\u001b[0;34m=\u001b[0m\u001b[0mf\u001b[0m\u001b[0;34m)\u001b[0m\u001b[0;34m\u001b[0m\u001b[0m\n\u001b[1;32m     18\u001b[0m         \u001b[0;32mfor\u001b[0m \u001b[0mcourse\u001b[0m \u001b[0;32min\u001b[0m \u001b[0mcourses\u001b[0m\u001b[0;34m:\u001b[0m\u001b[0;34m\u001b[0m\u001b[0m\n\u001b[0;32m---> 19\u001b[0;31m             \u001b[0mz_num\u001b[0m \u001b[0;34m=\u001b[0m \u001b[0mget_whole_course\u001b[0m\u001b[0;34m(\u001b[0m\u001b[0mcourse\u001b[0m\u001b[0;34m[\u001b[0m\u001b[0;36m1\u001b[0m\u001b[0;34m]\u001b[0m\u001b[0;34m,\u001b[0m \u001b[0mreturn_z\u001b[0m\u001b[0;34m=\u001b[0m\u001b[0;32mTrue\u001b[0m\u001b[0;34m)\u001b[0m\u001b[0;34m\u001b[0m\u001b[0m\n\u001b[0m\u001b[1;32m     20\u001b[0m             \u001b[0mcourse_name\u001b[0m \u001b[0;34m=\u001b[0m \u001b[0;34m'[['\u001b[0m \u001b[0;34m+\u001b[0m \u001b[0mz_num\u001b[0m \u001b[0;34m+\u001b[0m \u001b[0;34m']] '\u001b[0m \u001b[0;34m+\u001b[0m \u001b[0mcourse\u001b[0m\u001b[0;34m[\u001b[0m\u001b[0;36m0\u001b[0m\u001b[0;34m]\u001b[0m\u001b[0;34m\u001b[0m\u001b[0m\n\u001b[1;32m     21\u001b[0m             \u001b[0mprint\u001b[0m\u001b[0;34m(\u001b[0m\u001b[0;34m'*'\u001b[0m\u001b[0;34m,\u001b[0m \u001b[0mcourse_name\u001b[0m\u001b[0;34m,\u001b[0m \u001b[0mfile\u001b[0m\u001b[0;34m=\u001b[0m\u001b[0mf\u001b[0m\u001b[0;34m)\u001b[0m\u001b[0;34m\u001b[0m\u001b[0m\n",
      "\u001b[0;32m<ipython-input-2-2744d94e43ba>\u001b[0m in \u001b[0;36mget_whole_course\u001b[0;34m(link, return_z)\u001b[0m\n\u001b[1;32m     12\u001b[0m                 \u001b[0mfilename\u001b[0m \u001b[0;34m=\u001b[0m \u001b[0mz_list\u001b[0m\u001b[0;34m[\u001b[0m\u001b[0mz_index\u001b[0m\u001b[0;34m]\u001b[0m \u001b[0;34m+\u001b[0m \u001b[0;34m' '\u001b[0m \u001b[0;34m+\u001b[0m \u001b[0mchapter\u001b[0m \u001b[0;34m+\u001b[0m \u001b[0;34m'.txt'\u001b[0m\u001b[0;34m\u001b[0m\u001b[0m\n\u001b[1;32m     13\u001b[0m                 \u001b[0mchapter_link\u001b[0m \u001b[0;34m=\u001b[0m \u001b[0;34m[\u001b[0m\u001b[0mlesson\u001b[0m\u001b[0;34m]\u001b[0m\u001b[0;34m[\u001b[0m\u001b[0;36m0\u001b[0m\u001b[0;34m]\u001b[0m\u001b[0;34m[\u001b[0m\u001b[0;36m1\u001b[0m\u001b[0;34m]\u001b[0m\u001b[0;34m[\u001b[0m\u001b[0;36m1\u001b[0m\u001b[0;34m]\u001b[0m\u001b[0;34m\u001b[0m\u001b[0m\n\u001b[0;32m---> 14\u001b[0;31m                 \u001b[0mmake_chapter_notes\u001b[0m\u001b[0;34m(\u001b[0m\u001b[0mfilename\u001b[0m\u001b[0;34m,\u001b[0m \u001b[0mchapter_link\u001b[0m\u001b[0;34m)\u001b[0m\u001b[0;34m\u001b[0m\u001b[0m\n\u001b[0m\u001b[1;32m     15\u001b[0m         \u001b[0mcourse_name\u001b[0m \u001b[0;34m=\u001b[0m \u001b[0mget_course_title\u001b[0m\u001b[0;34m(\u001b[0m\u001b[0mlink\u001b[0m\u001b[0;34m)\u001b[0m\u001b[0;34m\u001b[0m\u001b[0m\n\u001b[1;32m     16\u001b[0m         \u001b[0mcreate_table_of_contents\u001b[0m\u001b[0;34m(\u001b[0m\u001b[0mcourse_dictionary\u001b[0m\u001b[0;34m,\u001b[0m \u001b[0mcourse_name\u001b[0m\u001b[0;34m,\u001b[0m \u001b[0mz_list\u001b[0m\u001b[0;34m)\u001b[0m\u001b[0;34m\u001b[0m\u001b[0m\n",
      "\u001b[0;32m<ipython-input-2-2744d94e43ba>\u001b[0m in \u001b[0;36mmake_chapter_notes\u001b[0;34m(filename, link)\u001b[0m\n\u001b[1;32m     60\u001b[0m         \u001b[0mFeeds\u001b[0m \u001b[0mto\u001b[0m\u001b[0;34m:\u001b[0m \u001b[0mget_lesson_json\u001b[0m\u001b[0;34m(\u001b[0m\u001b[0;34m)\u001b[0m\u001b[0;34m,\u001b[0m \u001b[0mNormalExercise_print\u001b[0m\u001b[0;34m(\u001b[0m\u001b[0;34m)\u001b[0m\u001b[0;34m,\u001b[0m \u001b[0mBulletExercise_print\u001b[0m\u001b[0;34m(\u001b[0m\u001b[0;34m)\u001b[0m\u001b[0;34m,\u001b[0m\u001b[0;34m\u001b[0m\u001b[0m\n\u001b[1;32m     61\u001b[0m \tMultipleChoiceExercise_print(), download_chapter_slides()'''\n\u001b[0;32m---> 62\u001b[0;31m         \u001b[0mlesson_json\u001b[0m \u001b[0;34m=\u001b[0m \u001b[0mget_lesson_json\u001b[0m\u001b[0;34m(\u001b[0m\u001b[0mlink\u001b[0m\u001b[0;34m)\u001b[0m\u001b[0;34m\u001b[0m\u001b[0m\n\u001b[0m\u001b[1;32m     63\u001b[0m         \u001b[0;32mfor\u001b[0m \u001b[0mitem\u001b[0m \u001b[0;32min\u001b[0m \u001b[0mlesson_json\u001b[0m\u001b[0;34m[\u001b[0m\u001b[0;34m'exercises'\u001b[0m\u001b[0;34m]\u001b[0m\u001b[0;34m[\u001b[0m\u001b[0;34m'all'\u001b[0m\u001b[0;34m]\u001b[0m\u001b[0;34m:\u001b[0m\u001b[0;34m\u001b[0m\u001b[0m\n\u001b[1;32m     64\u001b[0m                 \u001b[0;32mif\u001b[0m \u001b[0mitem\u001b[0m\u001b[0;34m[\u001b[0m\u001b[0;34m'type'\u001b[0m\u001b[0;34m]\u001b[0m \u001b[0;34m==\u001b[0m \u001b[0;34m'VideoExercise'\u001b[0m\u001b[0;34m:\u001b[0m\u001b[0;34m\u001b[0m\u001b[0m\n",
      "\u001b[0;32m<ipython-input-2-2744d94e43ba>\u001b[0m in \u001b[0;36mget_lesson_json\u001b[0;34m(link)\u001b[0m\n\u001b[1;32m     91\u001b[0m \t'''Receives lesson link from make_chapter_notes() and returns \n\u001b[1;32m     92\u001b[0m         \u001b[0mthe\u001b[0m \u001b[0mdictionary\u001b[0m \u001b[0mthat\u001b[0m \u001b[0mholds\u001b[0m \u001b[0mall\u001b[0m \u001b[0mthe\u001b[0m \u001b[0minformation\u001b[0m \u001b[0;32mfor\u001b[0m \u001b[0mthe\u001b[0m \u001b[0mlesson\u001b[0m\u001b[0;34m's parent chapter.'\u001b[0m\u001b[0;34m''\u001b[0m\u001b[0;34m\u001b[0m\u001b[0m\n\u001b[0;32m---> 93\u001b[0;31m         \u001b[0mhtml\u001b[0m \u001b[0;34m=\u001b[0m \u001b[0murlopen\u001b[0m\u001b[0;34m(\u001b[0m\u001b[0mlink\u001b[0m\u001b[0;34m)\u001b[0m\u001b[0;34m\u001b[0m\u001b[0m\n\u001b[0m\u001b[1;32m     94\u001b[0m         \u001b[0msoup\u001b[0m \u001b[0;34m=\u001b[0m \u001b[0mBeautifulSoup\u001b[0m\u001b[0;34m(\u001b[0m\u001b[0mhtml\u001b[0m\u001b[0;34m,\u001b[0m \u001b[0;34m'lxml'\u001b[0m\u001b[0;34m)\u001b[0m\u001b[0;34m\u001b[0m\u001b[0m\n\u001b[1;32m     95\u001b[0m         \u001b[0mstring\u001b[0m \u001b[0;34m=\u001b[0m \u001b[0msoup\u001b[0m\u001b[0;34m.\u001b[0m\u001b[0mfind_all\u001b[0m\u001b[0;34m(\u001b[0m\u001b[0;34m'script'\u001b[0m\u001b[0;34m)\u001b[0m\u001b[0;34m[\u001b[0m\u001b[0;36m3\u001b[0m\u001b[0;34m]\u001b[0m\u001b[0;34m.\u001b[0m\u001b[0mstring\u001b[0m\u001b[0;34m\u001b[0m\u001b[0m\n",
      "\u001b[0;32m~/anaconda3/lib/python3.6/urllib/request.py\u001b[0m in \u001b[0;36murlopen\u001b[0;34m(url, data, timeout, cafile, capath, cadefault, context)\u001b[0m\n\u001b[1;32m    221\u001b[0m     \u001b[0;32melse\u001b[0m\u001b[0;34m:\u001b[0m\u001b[0;34m\u001b[0m\u001b[0m\n\u001b[1;32m    222\u001b[0m         \u001b[0mopener\u001b[0m \u001b[0;34m=\u001b[0m \u001b[0m_opener\u001b[0m\u001b[0;34m\u001b[0m\u001b[0m\n\u001b[0;32m--> 223\u001b[0;31m     \u001b[0;32mreturn\u001b[0m \u001b[0mopener\u001b[0m\u001b[0;34m.\u001b[0m\u001b[0mopen\u001b[0m\u001b[0;34m(\u001b[0m\u001b[0murl\u001b[0m\u001b[0;34m,\u001b[0m \u001b[0mdata\u001b[0m\u001b[0;34m,\u001b[0m \u001b[0mtimeout\u001b[0m\u001b[0;34m)\u001b[0m\u001b[0;34m\u001b[0m\u001b[0m\n\u001b[0m\u001b[1;32m    224\u001b[0m \u001b[0;34m\u001b[0m\u001b[0m\n\u001b[1;32m    225\u001b[0m \u001b[0;32mdef\u001b[0m \u001b[0minstall_opener\u001b[0m\u001b[0;34m(\u001b[0m\u001b[0mopener\u001b[0m\u001b[0;34m)\u001b[0m\u001b[0;34m:\u001b[0m\u001b[0;34m\u001b[0m\u001b[0m\n",
      "\u001b[0;32m~/anaconda3/lib/python3.6/urllib/request.py\u001b[0m in \u001b[0;36mopen\u001b[0;34m(self, fullurl, data, timeout)\u001b[0m\n\u001b[1;32m    524\u001b[0m             \u001b[0mreq\u001b[0m \u001b[0;34m=\u001b[0m \u001b[0mmeth\u001b[0m\u001b[0;34m(\u001b[0m\u001b[0mreq\u001b[0m\u001b[0;34m)\u001b[0m\u001b[0;34m\u001b[0m\u001b[0m\n\u001b[1;32m    525\u001b[0m \u001b[0;34m\u001b[0m\u001b[0m\n\u001b[0;32m--> 526\u001b[0;31m         \u001b[0mresponse\u001b[0m \u001b[0;34m=\u001b[0m \u001b[0mself\u001b[0m\u001b[0;34m.\u001b[0m\u001b[0m_open\u001b[0m\u001b[0;34m(\u001b[0m\u001b[0mreq\u001b[0m\u001b[0;34m,\u001b[0m \u001b[0mdata\u001b[0m\u001b[0;34m)\u001b[0m\u001b[0;34m\u001b[0m\u001b[0m\n\u001b[0m\u001b[1;32m    527\u001b[0m \u001b[0;34m\u001b[0m\u001b[0m\n\u001b[1;32m    528\u001b[0m         \u001b[0;31m# post-process response\u001b[0m\u001b[0;34m\u001b[0m\u001b[0;34m\u001b[0m\u001b[0m\n",
      "\u001b[0;32m~/anaconda3/lib/python3.6/urllib/request.py\u001b[0m in \u001b[0;36m_open\u001b[0;34m(self, req, data)\u001b[0m\n\u001b[1;32m    542\u001b[0m         \u001b[0mprotocol\u001b[0m \u001b[0;34m=\u001b[0m \u001b[0mreq\u001b[0m\u001b[0;34m.\u001b[0m\u001b[0mtype\u001b[0m\u001b[0;34m\u001b[0m\u001b[0m\n\u001b[1;32m    543\u001b[0m         result = self._call_chain(self.handle_open, protocol, protocol +\n\u001b[0;32m--> 544\u001b[0;31m                                   '_open', req)\n\u001b[0m\u001b[1;32m    545\u001b[0m         \u001b[0;32mif\u001b[0m \u001b[0mresult\u001b[0m\u001b[0;34m:\u001b[0m\u001b[0;34m\u001b[0m\u001b[0m\n\u001b[1;32m    546\u001b[0m             \u001b[0;32mreturn\u001b[0m \u001b[0mresult\u001b[0m\u001b[0;34m\u001b[0m\u001b[0m\n",
      "\u001b[0;32m~/anaconda3/lib/python3.6/urllib/request.py\u001b[0m in \u001b[0;36m_call_chain\u001b[0;34m(self, chain, kind, meth_name, *args)\u001b[0m\n\u001b[1;32m    502\u001b[0m         \u001b[0;32mfor\u001b[0m \u001b[0mhandler\u001b[0m \u001b[0;32min\u001b[0m \u001b[0mhandlers\u001b[0m\u001b[0;34m:\u001b[0m\u001b[0;34m\u001b[0m\u001b[0m\n\u001b[1;32m    503\u001b[0m             \u001b[0mfunc\u001b[0m \u001b[0;34m=\u001b[0m \u001b[0mgetattr\u001b[0m\u001b[0;34m(\u001b[0m\u001b[0mhandler\u001b[0m\u001b[0;34m,\u001b[0m \u001b[0mmeth_name\u001b[0m\u001b[0;34m)\u001b[0m\u001b[0;34m\u001b[0m\u001b[0m\n\u001b[0;32m--> 504\u001b[0;31m             \u001b[0mresult\u001b[0m \u001b[0;34m=\u001b[0m \u001b[0mfunc\u001b[0m\u001b[0;34m(\u001b[0m\u001b[0;34m*\u001b[0m\u001b[0margs\u001b[0m\u001b[0;34m)\u001b[0m\u001b[0;34m\u001b[0m\u001b[0m\n\u001b[0m\u001b[1;32m    505\u001b[0m             \u001b[0;32mif\u001b[0m \u001b[0mresult\u001b[0m \u001b[0;32mis\u001b[0m \u001b[0;32mnot\u001b[0m \u001b[0;32mNone\u001b[0m\u001b[0;34m:\u001b[0m\u001b[0;34m\u001b[0m\u001b[0m\n\u001b[1;32m    506\u001b[0m                 \u001b[0;32mreturn\u001b[0m \u001b[0mresult\u001b[0m\u001b[0;34m\u001b[0m\u001b[0m\n",
      "\u001b[0;32m~/anaconda3/lib/python3.6/urllib/request.py\u001b[0m in \u001b[0;36mhttps_open\u001b[0;34m(self, req)\u001b[0m\n\u001b[1;32m   1359\u001b[0m         \u001b[0;32mdef\u001b[0m \u001b[0mhttps_open\u001b[0m\u001b[0;34m(\u001b[0m\u001b[0mself\u001b[0m\u001b[0;34m,\u001b[0m \u001b[0mreq\u001b[0m\u001b[0;34m)\u001b[0m\u001b[0;34m:\u001b[0m\u001b[0;34m\u001b[0m\u001b[0m\n\u001b[1;32m   1360\u001b[0m             return self.do_open(http.client.HTTPSConnection, req,\n\u001b[0;32m-> 1361\u001b[0;31m                 context=self._context, check_hostname=self._check_hostname)\n\u001b[0m\u001b[1;32m   1362\u001b[0m \u001b[0;34m\u001b[0m\u001b[0m\n\u001b[1;32m   1363\u001b[0m         \u001b[0mhttps_request\u001b[0m \u001b[0;34m=\u001b[0m \u001b[0mAbstractHTTPHandler\u001b[0m\u001b[0;34m.\u001b[0m\u001b[0mdo_request_\u001b[0m\u001b[0;34m\u001b[0m\u001b[0m\n",
      "\u001b[0;32m~/anaconda3/lib/python3.6/urllib/request.py\u001b[0m in \u001b[0;36mdo_open\u001b[0;34m(self, http_class, req, **http_conn_args)\u001b[0m\n\u001b[1;32m   1316\u001b[0m             \u001b[0;32mtry\u001b[0m\u001b[0;34m:\u001b[0m\u001b[0;34m\u001b[0m\u001b[0m\n\u001b[1;32m   1317\u001b[0m                 h.request(req.get_method(), req.selector, req.data, headers,\n\u001b[0;32m-> 1318\u001b[0;31m                           encode_chunked=req.has_header('Transfer-encoding'))\n\u001b[0m\u001b[1;32m   1319\u001b[0m             \u001b[0;32mexcept\u001b[0m \u001b[0mOSError\u001b[0m \u001b[0;32mas\u001b[0m \u001b[0merr\u001b[0m\u001b[0;34m:\u001b[0m \u001b[0;31m# timeout error\u001b[0m\u001b[0;34m\u001b[0m\u001b[0m\n\u001b[1;32m   1320\u001b[0m                 \u001b[0;32mraise\u001b[0m \u001b[0mURLError\u001b[0m\u001b[0;34m(\u001b[0m\u001b[0merr\u001b[0m\u001b[0;34m)\u001b[0m\u001b[0;34m\u001b[0m\u001b[0m\n",
      "\u001b[0;32m~/anaconda3/lib/python3.6/http/client.py\u001b[0m in \u001b[0;36mrequest\u001b[0;34m(self, method, url, body, headers, encode_chunked)\u001b[0m\n\u001b[1;32m   1237\u001b[0m                 encode_chunked=False):\n\u001b[1;32m   1238\u001b[0m         \u001b[0;34m\"\"\"Send a complete request to the server.\"\"\"\u001b[0m\u001b[0;34m\u001b[0m\u001b[0m\n\u001b[0;32m-> 1239\u001b[0;31m         \u001b[0mself\u001b[0m\u001b[0;34m.\u001b[0m\u001b[0m_send_request\u001b[0m\u001b[0;34m(\u001b[0m\u001b[0mmethod\u001b[0m\u001b[0;34m,\u001b[0m \u001b[0murl\u001b[0m\u001b[0;34m,\u001b[0m \u001b[0mbody\u001b[0m\u001b[0;34m,\u001b[0m \u001b[0mheaders\u001b[0m\u001b[0;34m,\u001b[0m \u001b[0mencode_chunked\u001b[0m\u001b[0;34m)\u001b[0m\u001b[0;34m\u001b[0m\u001b[0m\n\u001b[0m\u001b[1;32m   1240\u001b[0m \u001b[0;34m\u001b[0m\u001b[0m\n\u001b[1;32m   1241\u001b[0m     \u001b[0;32mdef\u001b[0m \u001b[0m_send_request\u001b[0m\u001b[0;34m(\u001b[0m\u001b[0mself\u001b[0m\u001b[0;34m,\u001b[0m \u001b[0mmethod\u001b[0m\u001b[0;34m,\u001b[0m \u001b[0murl\u001b[0m\u001b[0;34m,\u001b[0m \u001b[0mbody\u001b[0m\u001b[0;34m,\u001b[0m \u001b[0mheaders\u001b[0m\u001b[0;34m,\u001b[0m \u001b[0mencode_chunked\u001b[0m\u001b[0;34m)\u001b[0m\u001b[0;34m:\u001b[0m\u001b[0;34m\u001b[0m\u001b[0m\n",
      "\u001b[0;32m~/anaconda3/lib/python3.6/http/client.py\u001b[0m in \u001b[0;36m_send_request\u001b[0;34m(self, method, url, body, headers, encode_chunked)\u001b[0m\n\u001b[1;32m   1283\u001b[0m             \u001b[0;31m# default charset of iso-8859-1.\u001b[0m\u001b[0;34m\u001b[0m\u001b[0;34m\u001b[0m\u001b[0m\n\u001b[1;32m   1284\u001b[0m             \u001b[0mbody\u001b[0m \u001b[0;34m=\u001b[0m \u001b[0m_encode\u001b[0m\u001b[0;34m(\u001b[0m\u001b[0mbody\u001b[0m\u001b[0;34m,\u001b[0m \u001b[0;34m'body'\u001b[0m\u001b[0;34m)\u001b[0m\u001b[0;34m\u001b[0m\u001b[0m\n\u001b[0;32m-> 1285\u001b[0;31m         \u001b[0mself\u001b[0m\u001b[0;34m.\u001b[0m\u001b[0mendheaders\u001b[0m\u001b[0;34m(\u001b[0m\u001b[0mbody\u001b[0m\u001b[0;34m,\u001b[0m \u001b[0mencode_chunked\u001b[0m\u001b[0;34m=\u001b[0m\u001b[0mencode_chunked\u001b[0m\u001b[0;34m)\u001b[0m\u001b[0;34m\u001b[0m\u001b[0m\n\u001b[0m\u001b[1;32m   1286\u001b[0m \u001b[0;34m\u001b[0m\u001b[0m\n\u001b[1;32m   1287\u001b[0m     \u001b[0;32mdef\u001b[0m \u001b[0mgetresponse\u001b[0m\u001b[0;34m(\u001b[0m\u001b[0mself\u001b[0m\u001b[0;34m)\u001b[0m\u001b[0;34m:\u001b[0m\u001b[0;34m\u001b[0m\u001b[0m\n",
      "\u001b[0;32m~/anaconda3/lib/python3.6/http/client.py\u001b[0m in \u001b[0;36mendheaders\u001b[0;34m(self, message_body, encode_chunked)\u001b[0m\n\u001b[1;32m   1232\u001b[0m         \u001b[0;32melse\u001b[0m\u001b[0;34m:\u001b[0m\u001b[0;34m\u001b[0m\u001b[0m\n\u001b[1;32m   1233\u001b[0m             \u001b[0;32mraise\u001b[0m \u001b[0mCannotSendHeader\u001b[0m\u001b[0;34m(\u001b[0m\u001b[0;34m)\u001b[0m\u001b[0;34m\u001b[0m\u001b[0m\n\u001b[0;32m-> 1234\u001b[0;31m         \u001b[0mself\u001b[0m\u001b[0;34m.\u001b[0m\u001b[0m_send_output\u001b[0m\u001b[0;34m(\u001b[0m\u001b[0mmessage_body\u001b[0m\u001b[0;34m,\u001b[0m \u001b[0mencode_chunked\u001b[0m\u001b[0;34m=\u001b[0m\u001b[0mencode_chunked\u001b[0m\u001b[0;34m)\u001b[0m\u001b[0;34m\u001b[0m\u001b[0m\n\u001b[0m\u001b[1;32m   1235\u001b[0m \u001b[0;34m\u001b[0m\u001b[0m\n\u001b[1;32m   1236\u001b[0m     def request(self, method, url, body=None, headers={}, *,\n",
      "\u001b[0;32m~/anaconda3/lib/python3.6/http/client.py\u001b[0m in \u001b[0;36m_send_output\u001b[0;34m(self, message_body, encode_chunked)\u001b[0m\n\u001b[1;32m   1024\u001b[0m         \u001b[0mmsg\u001b[0m \u001b[0;34m=\u001b[0m \u001b[0;34mb\"\\r\\n\"\u001b[0m\u001b[0;34m.\u001b[0m\u001b[0mjoin\u001b[0m\u001b[0;34m(\u001b[0m\u001b[0mself\u001b[0m\u001b[0;34m.\u001b[0m\u001b[0m_buffer\u001b[0m\u001b[0;34m)\u001b[0m\u001b[0;34m\u001b[0m\u001b[0m\n\u001b[1;32m   1025\u001b[0m         \u001b[0;32mdel\u001b[0m \u001b[0mself\u001b[0m\u001b[0;34m.\u001b[0m\u001b[0m_buffer\u001b[0m\u001b[0;34m[\u001b[0m\u001b[0;34m:\u001b[0m\u001b[0;34m]\u001b[0m\u001b[0;34m\u001b[0m\u001b[0m\n\u001b[0;32m-> 1026\u001b[0;31m         \u001b[0mself\u001b[0m\u001b[0;34m.\u001b[0m\u001b[0msend\u001b[0m\u001b[0;34m(\u001b[0m\u001b[0mmsg\u001b[0m\u001b[0;34m)\u001b[0m\u001b[0;34m\u001b[0m\u001b[0m\n\u001b[0m\u001b[1;32m   1027\u001b[0m \u001b[0;34m\u001b[0m\u001b[0m\n\u001b[1;32m   1028\u001b[0m         \u001b[0;32mif\u001b[0m \u001b[0mmessage_body\u001b[0m \u001b[0;32mis\u001b[0m \u001b[0;32mnot\u001b[0m \u001b[0;32mNone\u001b[0m\u001b[0;34m:\u001b[0m\u001b[0;34m\u001b[0m\u001b[0m\n",
      "\u001b[0;32m~/anaconda3/lib/python3.6/http/client.py\u001b[0m in \u001b[0;36msend\u001b[0;34m(self, data)\u001b[0m\n\u001b[1;32m    962\u001b[0m         \u001b[0;32mif\u001b[0m \u001b[0mself\u001b[0m\u001b[0;34m.\u001b[0m\u001b[0msock\u001b[0m \u001b[0;32mis\u001b[0m \u001b[0;32mNone\u001b[0m\u001b[0;34m:\u001b[0m\u001b[0;34m\u001b[0m\u001b[0m\n\u001b[1;32m    963\u001b[0m             \u001b[0;32mif\u001b[0m \u001b[0mself\u001b[0m\u001b[0;34m.\u001b[0m\u001b[0mauto_open\u001b[0m\u001b[0;34m:\u001b[0m\u001b[0;34m\u001b[0m\u001b[0m\n\u001b[0;32m--> 964\u001b[0;31m                 \u001b[0mself\u001b[0m\u001b[0;34m.\u001b[0m\u001b[0mconnect\u001b[0m\u001b[0;34m(\u001b[0m\u001b[0;34m)\u001b[0m\u001b[0;34m\u001b[0m\u001b[0m\n\u001b[0m\u001b[1;32m    965\u001b[0m             \u001b[0;32melse\u001b[0m\u001b[0;34m:\u001b[0m\u001b[0;34m\u001b[0m\u001b[0m\n\u001b[1;32m    966\u001b[0m                 \u001b[0;32mraise\u001b[0m \u001b[0mNotConnected\u001b[0m\u001b[0;34m(\u001b[0m\u001b[0;34m)\u001b[0m\u001b[0;34m\u001b[0m\u001b[0m\n",
      "\u001b[0;32m~/anaconda3/lib/python3.6/http/client.py\u001b[0m in \u001b[0;36mconnect\u001b[0;34m(self)\u001b[0m\n\u001b[1;32m   1398\u001b[0m \u001b[0;34m\u001b[0m\u001b[0m\n\u001b[1;32m   1399\u001b[0m             self.sock = self._context.wrap_socket(self.sock,\n\u001b[0;32m-> 1400\u001b[0;31m                                                   server_hostname=server_hostname)\n\u001b[0m\u001b[1;32m   1401\u001b[0m             \u001b[0;32mif\u001b[0m \u001b[0;32mnot\u001b[0m \u001b[0mself\u001b[0m\u001b[0;34m.\u001b[0m\u001b[0m_context\u001b[0m\u001b[0;34m.\u001b[0m\u001b[0mcheck_hostname\u001b[0m \u001b[0;32mand\u001b[0m \u001b[0mself\u001b[0m\u001b[0;34m.\u001b[0m\u001b[0m_check_hostname\u001b[0m\u001b[0;34m:\u001b[0m\u001b[0;34m\u001b[0m\u001b[0m\n\u001b[1;32m   1402\u001b[0m                 \u001b[0;32mtry\u001b[0m\u001b[0;34m:\u001b[0m\u001b[0;34m\u001b[0m\u001b[0m\n",
      "\u001b[0;32m~/anaconda3/lib/python3.6/ssl.py\u001b[0m in \u001b[0;36mwrap_socket\u001b[0;34m(self, sock, server_side, do_handshake_on_connect, suppress_ragged_eofs, server_hostname, session)\u001b[0m\n\u001b[1;32m    405\u001b[0m                          \u001b[0msuppress_ragged_eofs\u001b[0m\u001b[0;34m=\u001b[0m\u001b[0msuppress_ragged_eofs\u001b[0m\u001b[0;34m,\u001b[0m\u001b[0;34m\u001b[0m\u001b[0m\n\u001b[1;32m    406\u001b[0m                          \u001b[0mserver_hostname\u001b[0m\u001b[0;34m=\u001b[0m\u001b[0mserver_hostname\u001b[0m\u001b[0;34m,\u001b[0m\u001b[0;34m\u001b[0m\u001b[0m\n\u001b[0;32m--> 407\u001b[0;31m                          _context=self, _session=session)\n\u001b[0m\u001b[1;32m    408\u001b[0m \u001b[0;34m\u001b[0m\u001b[0m\n\u001b[1;32m    409\u001b[0m     def wrap_bio(self, incoming, outgoing, server_side=False,\n",
      "\u001b[0;32m~/anaconda3/lib/python3.6/ssl.py\u001b[0m in \u001b[0;36m__init__\u001b[0;34m(self, sock, keyfile, certfile, server_side, cert_reqs, ssl_version, ca_certs, do_handshake_on_connect, family, type, proto, fileno, suppress_ragged_eofs, npn_protocols, ciphers, server_hostname, _context, _session)\u001b[0m\n\u001b[1;32m    812\u001b[0m                         \u001b[0;31m# non-blocking\u001b[0m\u001b[0;34m\u001b[0m\u001b[0;34m\u001b[0m\u001b[0m\n\u001b[1;32m    813\u001b[0m                         \u001b[0;32mraise\u001b[0m \u001b[0mValueError\u001b[0m\u001b[0;34m(\u001b[0m\u001b[0;34m\"do_handshake_on_connect should not be specified for non-blocking sockets\"\u001b[0m\u001b[0;34m)\u001b[0m\u001b[0;34m\u001b[0m\u001b[0m\n\u001b[0;32m--> 814\u001b[0;31m                     \u001b[0mself\u001b[0m\u001b[0;34m.\u001b[0m\u001b[0mdo_handshake\u001b[0m\u001b[0;34m(\u001b[0m\u001b[0;34m)\u001b[0m\u001b[0;34m\u001b[0m\u001b[0m\n\u001b[0m\u001b[1;32m    815\u001b[0m \u001b[0;34m\u001b[0m\u001b[0m\n\u001b[1;32m    816\u001b[0m             \u001b[0;32mexcept\u001b[0m \u001b[0;34m(\u001b[0m\u001b[0mOSError\u001b[0m\u001b[0;34m,\u001b[0m \u001b[0mValueError\u001b[0m\u001b[0;34m)\u001b[0m\u001b[0;34m:\u001b[0m\u001b[0;34m\u001b[0m\u001b[0m\n",
      "\u001b[0;32m~/anaconda3/lib/python3.6/ssl.py\u001b[0m in \u001b[0;36mdo_handshake\u001b[0;34m(self, block)\u001b[0m\n\u001b[1;32m   1066\u001b[0m             \u001b[0;32mif\u001b[0m \u001b[0mtimeout\u001b[0m \u001b[0;34m==\u001b[0m \u001b[0;36m0.0\u001b[0m \u001b[0;32mand\u001b[0m \u001b[0mblock\u001b[0m\u001b[0;34m:\u001b[0m\u001b[0;34m\u001b[0m\u001b[0m\n\u001b[1;32m   1067\u001b[0m                 \u001b[0mself\u001b[0m\u001b[0;34m.\u001b[0m\u001b[0msettimeout\u001b[0m\u001b[0;34m(\u001b[0m\u001b[0;32mNone\u001b[0m\u001b[0;34m)\u001b[0m\u001b[0;34m\u001b[0m\u001b[0m\n\u001b[0;32m-> 1068\u001b[0;31m             \u001b[0mself\u001b[0m\u001b[0;34m.\u001b[0m\u001b[0m_sslobj\u001b[0m\u001b[0;34m.\u001b[0m\u001b[0mdo_handshake\u001b[0m\u001b[0;34m(\u001b[0m\u001b[0;34m)\u001b[0m\u001b[0;34m\u001b[0m\u001b[0m\n\u001b[0m\u001b[1;32m   1069\u001b[0m         \u001b[0;32mfinally\u001b[0m\u001b[0;34m:\u001b[0m\u001b[0;34m\u001b[0m\u001b[0m\n\u001b[1;32m   1070\u001b[0m             \u001b[0mself\u001b[0m\u001b[0;34m.\u001b[0m\u001b[0msettimeout\u001b[0m\u001b[0;34m(\u001b[0m\u001b[0mtimeout\u001b[0m\u001b[0;34m)\u001b[0m\u001b[0;34m\u001b[0m\u001b[0m\n",
      "\u001b[0;32m~/anaconda3/lib/python3.6/ssl.py\u001b[0m in \u001b[0;36mdo_handshake\u001b[0;34m(self)\u001b[0m\n\u001b[1;32m    687\u001b[0m     \u001b[0;32mdef\u001b[0m \u001b[0mdo_handshake\u001b[0m\u001b[0;34m(\u001b[0m\u001b[0mself\u001b[0m\u001b[0;34m)\u001b[0m\u001b[0;34m:\u001b[0m\u001b[0;34m\u001b[0m\u001b[0m\n\u001b[1;32m    688\u001b[0m         \u001b[0;34m\"\"\"Start the SSL/TLS handshake.\"\"\"\u001b[0m\u001b[0;34m\u001b[0m\u001b[0m\n\u001b[0;32m--> 689\u001b[0;31m         \u001b[0mself\u001b[0m\u001b[0;34m.\u001b[0m\u001b[0m_sslobj\u001b[0m\u001b[0;34m.\u001b[0m\u001b[0mdo_handshake\u001b[0m\u001b[0;34m(\u001b[0m\u001b[0;34m)\u001b[0m\u001b[0;34m\u001b[0m\u001b[0m\n\u001b[0m\u001b[1;32m    690\u001b[0m         \u001b[0;32mif\u001b[0m \u001b[0mself\u001b[0m\u001b[0;34m.\u001b[0m\u001b[0mcontext\u001b[0m\u001b[0;34m.\u001b[0m\u001b[0mcheck_hostname\u001b[0m\u001b[0;34m:\u001b[0m\u001b[0;34m\u001b[0m\u001b[0m\n\u001b[1;32m    691\u001b[0m             \u001b[0;32mif\u001b[0m \u001b[0;32mnot\u001b[0m \u001b[0mself\u001b[0m\u001b[0;34m.\u001b[0m\u001b[0mserver_hostname\u001b[0m\u001b[0;34m:\u001b[0m\u001b[0;34m\u001b[0m\u001b[0m\n",
      "\u001b[0;31mKeyboardInterrupt\u001b[0m: "
     ]
    }
   ],
   "source": [
    "get_whole_track('https://www.datacamp.com/tracks/data-scientist-with-r')\n",
    "print('Done!')"
   ]
  },
  {
   "cell_type": "code",
   "execution_count": 21,
   "metadata": {
    "collapsed": true
   },
   "outputs": [],
   "source": [
    "link = 'https://campus.datacamp.com/courses/introduction-to-the-tidyverse/data-visualization?ex=2'\n",
    "lesson_json = get_lesson_json(link)"
   ]
  },
  {
   "cell_type": "code",
   "execution_count": 22,
   "metadata": {},
   "outputs": [
    {
     "name": "stdout",
     "output_type": "stream",
     "text": [
      "https://s3.amazonaws.com/assets.datacamp.com/production/course_5863/slides/chapter1.pdf\n",
      "https://s3.amazonaws.com/assets.datacamp.com/production/course_4914/slides/chapter2.pdf\n",
      "https://s3.amazonaws.com/assets.datacamp.com/production/course_4914/slides/chapter3.pdf\n",
      "https://s3.amazonaws.com/assets.datacamp.com/production/course_4914/slides/chapter4.pdf\n"
     ]
    }
   ],
   "source": [
    "filename = 'q'\n",
    "for item in lesson_json['course']['chapters']:\n",
    "\turl = item['slides_link']\n",
    "\tprint(url)\n",
    "\tif url != None:\n",
    "\t\turlretrieve(url, filename + '.pdf')\n",
    "\telse:\n",
    "\t\tpass"
   ]
  },
  {
   "cell_type": "code",
   "execution_count": 15,
   "metadata": {
    "collapsed": true
   },
   "outputs": [],
   "source": [
    "my_dict = get_course_outline('https://www.datacamp.com/courses/introduction-to-the-tidyverse')"
   ]
  },
  {
   "cell_type": "code",
   "execution_count": 30,
   "metadata": {},
   "outputs": [
    {
     "name": "stdout",
     "output_type": "stream",
     "text": [
      "https://campus.datacamp.com/courses/introduction-to-the-tidyverse/data-wrangling-1?ex=2\n",
      "https://campus.datacamp.com/courses/introduction-to-the-tidyverse/data-visualization?ex=2\n",
      "https://campus.datacamp.com/courses/introduction-to-the-tidyverse/grouping-and-summarizing?ex=2\n",
      "https://campus.datacamp.com/courses/introduction-to-the-tidyverse/types-of-visualizations?ex=2\n"
     ]
    }
   ],
   "source": [
    "for chapter, lesson in my_dict.items():\n",
    "    print([lesson][0][1][1])"
   ]
  },
  {
   "cell_type": "code",
   "execution_count": 31,
   "metadata": {
    "collapsed": true
   },
   "outputs": [],
   "source": [
    "my_dict = get_lesson_json('https://campus.datacamp.com/courses/introduction-to-the-tidyverse/types-of-visualizations?ex=2')"
   ]
  },
  {
   "cell_type": "code",
   "execution_count": 34,
   "metadata": {},
   "outputs": [
    {
     "name": "stdout",
     "output_type": "stream",
     "text": [
      "[{'badge_completed_url': 'https://assets.datacamp.com/production/default/badges/missing.png',\n",
      "  'badge_uncompleted_url': 'https://assets.datacamp.com/production/default/badges/missing_unc.png',\n",
      "  'description': \"In this chapter, you'll learn to do three things with a \"\n",
      "                 'table: filter for particular observations, arrange the '\n",
      "                 'observations in a desired order, and mutate to add or change '\n",
      "                 \"a column. You'll see how each of these steps lets you answer \"\n",
      "                 'questions about your data.\\n',\n",
      "  'free_preview': True,\n",
      "  'id': 15497,\n",
      "  'last_updated_on': '29/06/2018',\n",
      "  'nb_exercises': 12,\n",
      "  'number': 1,\n",
      "  'slides_link': 'https://s3.amazonaws.com/assets.datacamp.com/production/course_5863/slides/chapter1.pdf',\n",
      "  'slug': 'data-wrangling-1',\n",
      "  'title': 'Data wrangling',\n",
      "  'title_meta': None,\n",
      "  'xp': 950},\n",
      " {'badge_completed_url': 'https://assets.datacamp.com/production/default/badges/missing.png',\n",
      "  'badge_uncompleted_url': 'https://assets.datacamp.com/production/default/badges/missing_unc.png',\n",
      "  'description': \"You've already been able to answer some questions about the \"\n",
      "                 \"data through dplyr, but you've engaged with them just as a \"\n",
      "                 'table (such as one showing the life expectancy in the US '\n",
      "                 'each year). Often a better way to understand and present '\n",
      "                 \"such data is as a graph. Here you'll learn the essential \"\n",
      "                 'skill of data visualization, using the ggplot2 package. '\n",
      "                 'Visualization and manipulation are often intertwined, so '\n",
      "                 \"you'll see how the dplyr and ggplot2 packages work closely \"\n",
      "                 'together to create informative graphs.',\n",
      "  'free_preview': None,\n",
      "  'id': 15498,\n",
      "  'last_updated_on': '29/06/2018',\n",
      "  'nb_exercises': 13,\n",
      "  'number': 2,\n",
      "  'slides_link': 'https://s3.amazonaws.com/assets.datacamp.com/production/course_4914/slides/chapter2.pdf',\n",
      "  'slug': 'data-visualization',\n",
      "  'title': 'Data visualization',\n",
      "  'title_meta': None,\n",
      "  'xp': 1100},\n",
      " {'badge_completed_url': 'https://assets.datacamp.com/production/default/badges/missing.png',\n",
      "  'badge_uncompleted_url': 'https://assets.datacamp.com/production/default/badges/missing_unc.png',\n",
      "  'description': \"So far you've been answering questions about individual \"\n",
      "                 'country-year pairs, but we may be interested in aggregations '\n",
      "                 'of the data, such as the average life expectancy of all '\n",
      "                 \"countries within each year. Here you'll learn to use the \"\n",
      "                 'group by and summarize verbs, which collapse large datasets '\n",
      "                 'into manageable summaries.\\n',\n",
      "  'free_preview': None,\n",
      "  'id': 15499,\n",
      "  'last_updated_on': '12/07/2018',\n",
      "  'nb_exercises': 12,\n",
      "  'number': 3,\n",
      "  'slides_link': 'https://s3.amazonaws.com/assets.datacamp.com/production/course_4914/slides/chapter3.pdf',\n",
      "  'slug': 'grouping-and-summarizing',\n",
      "  'title': 'Grouping and summarizing',\n",
      "  'title_meta': None,\n",
      "  'xp': 1050},\n",
      " {'badge_completed_url': 'https://assets.datacamp.com/production/default/badges/missing.png',\n",
      "  'badge_uncompleted_url': 'https://assets.datacamp.com/production/default/badges/missing_unc.png',\n",
      "  'description': \"You've learned to create scatter plots with ggplot2. In this \"\n",
      "                 \"chapter you'll learn to create line plots, bar plots, \"\n",
      "                 \"histograms, and boxplots. You'll see how each plot needs \"\n",
      "                 'different kinds of data manipulation to prepare for it, and '\n",
      "                 'understand the different roles of each of these plot types '\n",
      "                 'in data analysis.',\n",
      "  'free_preview': None,\n",
      "  'id': 15500,\n",
      "  'last_updated_on': '04/06/2018',\n",
      "  'nb_exercises': 13,\n",
      "  'number': 4,\n",
      "  'slides_link': 'https://s3.amazonaws.com/assets.datacamp.com/production/course_4914/slides/chapter4.pdf',\n",
      "  'slug': 'types-of-visualizations',\n",
      "  'title': 'Types of visualizations',\n",
      "  'title_meta': None,\n",
      "  'xp': 1050}]\n"
     ]
    }
   ],
   "source": [
    "pprint.pprint(my_dict['course']['chapters'])"
   ]
  },
  {
   "cell_type": "code",
   "execution_count": null,
   "metadata": {
    "collapsed": true
   },
   "outputs": [],
   "source": []
  }
 ],
 "metadata": {
  "kernelspec": {
   "display_name": "Python 3",
   "language": "python",
   "name": "python3"
  },
  "language_info": {
   "codemirror_mode": {
    "name": "ipython",
    "version": 3
   },
   "file_extension": ".py",
   "mimetype": "text/x-python",
   "name": "python",
   "nbconvert_exporter": "python",
   "pygments_lexer": "ipython3",
   "version": "3.6.3"
  }
 },
 "nbformat": 4,
 "nbformat_minor": 2
}
